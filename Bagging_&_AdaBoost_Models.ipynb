{
  "cells": [
    {
      "cell_type": "markdown",
      "source": [
        "# Electricity Price Explanation using Bagging and AdaBoost Models  : Ensemble Learning Project\n",
        "\n",
        "\n",
        "This notebook details the steps to develop Bagging and AdaBoost models to facilitate electricity price explanation using input variables from the training dataset and predicting the same using the test dataset. It also includes the data pre-processing steps already covered in the \"Data Cleaning\" notebook.\n",
        "\n",
        "Group Members: Abhimanyu Bhadauria, Aditi Agrawal, Saptarshi Banerjee, Shubham Bhandari"
      ],
      "metadata": {
        "id": "SkvQRph8lt61"
      }
    },
    {
      "cell_type": "markdown",
      "source": [
        "## Library import:"
      ],
      "metadata": {
        "id": "uZVX3vl2mygt"
      }
    },
    {
      "cell_type": "code",
      "source": [
        "def warn(*args, **kwargs):\n",
        "    pass\n",
        "import warnings\n",
        "warnings.warn = warn"
      ],
      "metadata": {
        "id": "G_Kvmx7WlsRT"
      },
      "execution_count": null,
      "outputs": []
    },
    {
      "cell_type": "code",
      "execution_count": 3,
      "metadata": {
        "id": "Jbu8vU8FkhjA"
      },
      "outputs": [],
      "source": [
        "#import required libraries\n",
        "import numpy as np\n",
        "import pandas as pd\n",
        "from scipy.stats import spearmanr\n",
        "from sklearn.linear_model import LinearRegression\n",
        "import matplotlib.pyplot as plt\n",
        "from itertools import product\n",
        "from sklearn import preprocessing\n",
        "from sklearn.ensemble import BaggingRegressor\n",
        "from sklearn.metrics import mean_squared_error, mean_absolute_error\n",
        "from sklearn.model_selection import train_test_split\n",
        "from sklearn.ensemble import AdaBoostRegressor\n",
        "from sklearn.model_selection import GridSearchCV"
      ]
    },
    {
      "cell_type": "markdown",
      "source": [
        "## Data Import:"
      ],
      "metadata": {
        "id": "z8bG072NpDej"
      }
    },
    {
      "cell_type": "code",
      "execution_count": 38,
      "metadata": {
        "id": "nWyZ1ncckhjB"
      },
      "outputs": [],
      "source": [
        "# After downloading the X_train/X_test/Y_train .csv files in your working directory:\n",
        "\n",
        "X_train = pd.read_csv('/content/x_train.csv')\n",
        "Y_train = pd.read_csv('/content/y_train.csv')\n",
        "X_test = pd.read_csv('/content/x_test.csv')\n",
        "Y_test = pd.read_csv('/content/y_test.csv')"
      ]
    },
    {
      "cell_type": "markdown",
      "source": [
        "## Data Cleaning and Pre-processing:"
      ],
      "metadata": {
        "id": "KNWbx1rypM7i"
      }
    },
    {
      "cell_type": "code",
      "execution_count": 39,
      "metadata": {
        "id": "n6NRxMZekhjC"
      },
      "outputs": [],
      "source": [
        "#concat the X_train and Y_train\n",
        "X_train = pd.concat([X_train, Y_train], axis=1)\n",
        "X_test = pd.concat([X_test, Y_test], axis=1)\n"
      ]
    },
    {
      "cell_type": "code",
      "execution_count": 40,
      "metadata": {
        "id": "pshXHVoHkhjE"
      },
      "outputs": [],
      "source": [
        "#sort the data in ascending order of DAY_ID\n",
        "X_train = X_train.sort_values(by='DAY_ID')\n",
        "X_train = X_train.reset_index(drop=True)\n",
        "\n",
        "X_test = X_test.sort_values(by='DAY_ID')\n",
        "X_test = X_test.reset_index(drop=True)\n"
      ]
    },
    {
      "cell_type": "code",
      "execution_count": 41,
      "metadata": {
        "id": "HH7wQN2KkhjF"
      },
      "outputs": [],
      "source": [
        "#split the X_train data to X_train_FR and X_train_DE based on the COUNTRY column\n",
        "X_train_FR = X_train[X_train['COUNTRY'] == 'FR']\n",
        "X_train_DE = X_train[X_train['COUNTRY'] == 'DE']\n",
        "\n",
        "X_test_FR = X_test[X_test['COUNTRY'] == 'FR']\n",
        "X_test_DE = X_test[X_test['COUNTRY'] == 'DE']"
      ]
    },
    {
      "cell_type": "code",
      "execution_count": 42,
      "metadata": {
        "id": "nLejf-WmkhjF"
      },
      "outputs": [],
      "source": [
        "fill=['DE_RAIN','FR_RAIN','DE_WIND','FR_WIND','DE_TEMP','FR_TEMP']"
      ]
    },
    {
      "cell_type": "code",
      "execution_count": 43,
      "metadata": {
        "id": "cNQaiqyZkhjG"
      },
      "outputs": [],
      "source": [
        "from statsmodels.tsa.arima.model import ARIMA\n",
        "import numpy as np\n",
        "\n",
        "def fill_missing_values(df, columns_to_fill):\n",
        "    # Loop over the columns to fill\n",
        "    for column in columns_to_fill:\n",
        "        # Get the data for this column\n",
        "        data = df[column]\n",
        "\n",
        "        # Find where the NaNs are\n",
        "        mask = np.isnan(data)\n",
        "\n",
        "        # Prepare the data for ARIMA\n",
        "        train_data = data[~mask]\n",
        "        test_data = data[mask]\n",
        "\n",
        "        # Fit the ARIMA model\n",
        "        model = ARIMA(train_data, order=(5,1,0))\n",
        "        model_fit = model.fit()\n",
        "\n",
        "        # Use the model to predict the missing values\n",
        "        predictions = model_fit.predict(start=len(train_data), end=len(train_data)+len(test_data)-1)\n",
        "\n",
        "        # Fill the missing values with the predictions\n",
        "        data[mask] = predictions\n",
        "\n",
        "        # Use forward fill for any remaining missing values\n",
        "        data = data.fillna(method='ffill')\n",
        "\n",
        "        # Use backward fill for any remaining missing values\n",
        "        data = data.fillna(method='bfill')\n",
        "\n",
        "        # Update the column in the DataFrame\n",
        "        df[column] = data\n",
        "    return df"
      ]
    },
    {
      "cell_type": "code",
      "execution_count": 44,
      "metadata": {
        "id": "bM2M-fASkhjG",
        "outputId": "42b5e5b2-4640-4f2d-e3e2-16c60bc9e988",
        "colab": {
          "base_uri": "https://localhost:8080/",
          "height": 444
        }
      },
      "outputs": [
        {
          "output_type": "execute_result",
          "data": {
            "text/plain": [
              "      ID  DAY_ID COUNTRY  DE_CONSUMPTION  FR_CONSUMPTION  DE_FR_EXCHANGE  \\\n",
              "1    410       4      DE        0.944117        0.203547        0.372743   \n",
              "3    562       6      DE        0.120788       -0.744840       -1.195940   \n",
              "5    750       9      DE        1.056973        0.535641        0.989874   \n",
              "7    802      13      DE       -0.138870       -0.702079       -0.521880   \n",
              "11   504      24      DE        0.143362       -0.524899       -1.030414   \n",
              "..   ...     ...     ...             ...             ...             ...   \n",
              "643  558    1197      DE        0.554256       -0.696734       -0.110097   \n",
              "645  510    1203      DE        1.036507        0.450521        1.088059   \n",
              "647  139    1206      DE        0.611063       -0.166570       -0.221738   \n",
              "650  452    1210      DE        1.741160        1.823518        1.588180   \n",
              "652  270    1211      DE       -0.260011       -1.022730       -1.208286   \n",
              "\n",
              "     FR_DE_EXCHANGE  DE_NET_EXPORT  FR_NET_EXPORT  DE_NET_IMPORT  ...  \\\n",
              "1         -0.372743       0.656335       0.519380      -0.656335  ...   \n",
              "3          1.195940      -1.670709       1.164429       1.670709  ...   \n",
              "5         -0.989874       0.091679      -1.072153      -0.091679  ...   \n",
              "7          0.521880      -1.067974      -0.670168       1.067974  ...   \n",
              "11         1.030414      -1.005184       0.832404       1.005184  ...   \n",
              "..              ...            ...            ...            ...  ...   \n",
              "643        0.110097      -0.302746       0.511653       0.302746  ...   \n",
              "645       -1.088059       0.211113      -1.404554      -0.211113  ...   \n",
              "647        0.221738       0.045492       0.302293      -0.045492  ...   \n",
              "650       -1.588180       2.061425       0.083979      -2.061425  ...   \n",
              "652        1.208286      -1.203534       1.170144       1.203534  ...   \n",
              "\n",
              "      FR_RAIN   DE_WIND   FR_WIND   DE_TEMP   FR_TEMP   GAS_RET  COAL_RET  \\\n",
              "1   -0.359430 -0.614570 -0.734964  1.192221  0.701597 -0.357747  0.696316   \n",
              "3    0.149032  0.324280  1.119383 -0.288148 -0.894852  2.213681  0.352223   \n",
              "5   -0.647654  0.666003  1.848971  0.007103 -0.182161  0.021228  0.484992   \n",
              "7   -0.139418  0.573454  0.498127 -0.571953 -0.349293 -0.548502  0.578269   \n",
              "11  -0.139418  0.573454  0.498127 -0.571953 -0.349293  0.232096 -0.078845   \n",
              "..        ...       ...       ...       ...       ...       ...       ...   \n",
              "643  2.819208  0.388530  1.683905  2.226844  1.120592  0.000000  0.885600   \n",
              "645 -0.077136  0.991121  2.040713 -1.868996 -1.839327  1.003526 -0.603416   \n",
              "647  1.041395 -0.763306 -0.341595  0.523483  0.117366 -0.234023  1.145696   \n",
              "650  1.041395 -0.763306 -0.341595  0.523483  0.117366 -0.035345  1.760113   \n",
              "652 -0.337370 -0.415788 -0.627293 -1.015212  0.642532  0.698900 -0.120277   \n",
              "\n",
              "     CARBON_RET   ID    TARGET  \n",
              "1     -0.426880  410  1.103289  \n",
              "3      0.518026  562  1.110984  \n",
              "5      0.202597  750  0.462893  \n",
              "7     -0.831399  802 -0.360199  \n",
              "11     0.190155  504 -1.463765  \n",
              "..          ...  ...       ...  \n",
              "643    1.313050  558  0.618505  \n",
              "645   -0.143810  510  0.699819  \n",
              "647    0.262949  139  0.355194  \n",
              "650    1.481091  452 -0.838942  \n",
              "652    0.543710  270  0.611812  \n",
              "\n",
              "[289 rows x 37 columns]"
            ],
            "text/html": [
              "\n",
              "  <div id=\"df-8da05488-cda6-4a5c-ae44-ab4df27b71d0\" class=\"colab-df-container\">\n",
              "    <div>\n",
              "<style scoped>\n",
              "    .dataframe tbody tr th:only-of-type {\n",
              "        vertical-align: middle;\n",
              "    }\n",
              "\n",
              "    .dataframe tbody tr th {\n",
              "        vertical-align: top;\n",
              "    }\n",
              "\n",
              "    .dataframe thead th {\n",
              "        text-align: right;\n",
              "    }\n",
              "</style>\n",
              "<table border=\"1\" class=\"dataframe\">\n",
              "  <thead>\n",
              "    <tr style=\"text-align: right;\">\n",
              "      <th></th>\n",
              "      <th>ID</th>\n",
              "      <th>DAY_ID</th>\n",
              "      <th>COUNTRY</th>\n",
              "      <th>DE_CONSUMPTION</th>\n",
              "      <th>FR_CONSUMPTION</th>\n",
              "      <th>DE_FR_EXCHANGE</th>\n",
              "      <th>FR_DE_EXCHANGE</th>\n",
              "      <th>DE_NET_EXPORT</th>\n",
              "      <th>FR_NET_EXPORT</th>\n",
              "      <th>DE_NET_IMPORT</th>\n",
              "      <th>...</th>\n",
              "      <th>FR_RAIN</th>\n",
              "      <th>DE_WIND</th>\n",
              "      <th>FR_WIND</th>\n",
              "      <th>DE_TEMP</th>\n",
              "      <th>FR_TEMP</th>\n",
              "      <th>GAS_RET</th>\n",
              "      <th>COAL_RET</th>\n",
              "      <th>CARBON_RET</th>\n",
              "      <th>ID</th>\n",
              "      <th>TARGET</th>\n",
              "    </tr>\n",
              "  </thead>\n",
              "  <tbody>\n",
              "    <tr>\n",
              "      <th>1</th>\n",
              "      <td>410</td>\n",
              "      <td>4</td>\n",
              "      <td>DE</td>\n",
              "      <td>0.944117</td>\n",
              "      <td>0.203547</td>\n",
              "      <td>0.372743</td>\n",
              "      <td>-0.372743</td>\n",
              "      <td>0.656335</td>\n",
              "      <td>0.519380</td>\n",
              "      <td>-0.656335</td>\n",
              "      <td>...</td>\n",
              "      <td>-0.359430</td>\n",
              "      <td>-0.614570</td>\n",
              "      <td>-0.734964</td>\n",
              "      <td>1.192221</td>\n",
              "      <td>0.701597</td>\n",
              "      <td>-0.357747</td>\n",
              "      <td>0.696316</td>\n",
              "      <td>-0.426880</td>\n",
              "      <td>410</td>\n",
              "      <td>1.103289</td>\n",
              "    </tr>\n",
              "    <tr>\n",
              "      <th>3</th>\n",
              "      <td>562</td>\n",
              "      <td>6</td>\n",
              "      <td>DE</td>\n",
              "      <td>0.120788</td>\n",
              "      <td>-0.744840</td>\n",
              "      <td>-1.195940</td>\n",
              "      <td>1.195940</td>\n",
              "      <td>-1.670709</td>\n",
              "      <td>1.164429</td>\n",
              "      <td>1.670709</td>\n",
              "      <td>...</td>\n",
              "      <td>0.149032</td>\n",
              "      <td>0.324280</td>\n",
              "      <td>1.119383</td>\n",
              "      <td>-0.288148</td>\n",
              "      <td>-0.894852</td>\n",
              "      <td>2.213681</td>\n",
              "      <td>0.352223</td>\n",
              "      <td>0.518026</td>\n",
              "      <td>562</td>\n",
              "      <td>1.110984</td>\n",
              "    </tr>\n",
              "    <tr>\n",
              "      <th>5</th>\n",
              "      <td>750</td>\n",
              "      <td>9</td>\n",
              "      <td>DE</td>\n",
              "      <td>1.056973</td>\n",
              "      <td>0.535641</td>\n",
              "      <td>0.989874</td>\n",
              "      <td>-0.989874</td>\n",
              "      <td>0.091679</td>\n",
              "      <td>-1.072153</td>\n",
              "      <td>-0.091679</td>\n",
              "      <td>...</td>\n",
              "      <td>-0.647654</td>\n",
              "      <td>0.666003</td>\n",
              "      <td>1.848971</td>\n",
              "      <td>0.007103</td>\n",
              "      <td>-0.182161</td>\n",
              "      <td>0.021228</td>\n",
              "      <td>0.484992</td>\n",
              "      <td>0.202597</td>\n",
              "      <td>750</td>\n",
              "      <td>0.462893</td>\n",
              "    </tr>\n",
              "    <tr>\n",
              "      <th>7</th>\n",
              "      <td>802</td>\n",
              "      <td>13</td>\n",
              "      <td>DE</td>\n",
              "      <td>-0.138870</td>\n",
              "      <td>-0.702079</td>\n",
              "      <td>-0.521880</td>\n",
              "      <td>0.521880</td>\n",
              "      <td>-1.067974</td>\n",
              "      <td>-0.670168</td>\n",
              "      <td>1.067974</td>\n",
              "      <td>...</td>\n",
              "      <td>-0.139418</td>\n",
              "      <td>0.573454</td>\n",
              "      <td>0.498127</td>\n",
              "      <td>-0.571953</td>\n",
              "      <td>-0.349293</td>\n",
              "      <td>-0.548502</td>\n",
              "      <td>0.578269</td>\n",
              "      <td>-0.831399</td>\n",
              "      <td>802</td>\n",
              "      <td>-0.360199</td>\n",
              "    </tr>\n",
              "    <tr>\n",
              "      <th>11</th>\n",
              "      <td>504</td>\n",
              "      <td>24</td>\n",
              "      <td>DE</td>\n",
              "      <td>0.143362</td>\n",
              "      <td>-0.524899</td>\n",
              "      <td>-1.030414</td>\n",
              "      <td>1.030414</td>\n",
              "      <td>-1.005184</td>\n",
              "      <td>0.832404</td>\n",
              "      <td>1.005184</td>\n",
              "      <td>...</td>\n",
              "      <td>-0.139418</td>\n",
              "      <td>0.573454</td>\n",
              "      <td>0.498127</td>\n",
              "      <td>-0.571953</td>\n",
              "      <td>-0.349293</td>\n",
              "      <td>0.232096</td>\n",
              "      <td>-0.078845</td>\n",
              "      <td>0.190155</td>\n",
              "      <td>504</td>\n",
              "      <td>-1.463765</td>\n",
              "    </tr>\n",
              "    <tr>\n",
              "      <th>...</th>\n",
              "      <td>...</td>\n",
              "      <td>...</td>\n",
              "      <td>...</td>\n",
              "      <td>...</td>\n",
              "      <td>...</td>\n",
              "      <td>...</td>\n",
              "      <td>...</td>\n",
              "      <td>...</td>\n",
              "      <td>...</td>\n",
              "      <td>...</td>\n",
              "      <td>...</td>\n",
              "      <td>...</td>\n",
              "      <td>...</td>\n",
              "      <td>...</td>\n",
              "      <td>...</td>\n",
              "      <td>...</td>\n",
              "      <td>...</td>\n",
              "      <td>...</td>\n",
              "      <td>...</td>\n",
              "      <td>...</td>\n",
              "      <td>...</td>\n",
              "    </tr>\n",
              "    <tr>\n",
              "      <th>643</th>\n",
              "      <td>558</td>\n",
              "      <td>1197</td>\n",
              "      <td>DE</td>\n",
              "      <td>0.554256</td>\n",
              "      <td>-0.696734</td>\n",
              "      <td>-0.110097</td>\n",
              "      <td>0.110097</td>\n",
              "      <td>-0.302746</td>\n",
              "      <td>0.511653</td>\n",
              "      <td>0.302746</td>\n",
              "      <td>...</td>\n",
              "      <td>2.819208</td>\n",
              "      <td>0.388530</td>\n",
              "      <td>1.683905</td>\n",
              "      <td>2.226844</td>\n",
              "      <td>1.120592</td>\n",
              "      <td>0.000000</td>\n",
              "      <td>0.885600</td>\n",
              "      <td>1.313050</td>\n",
              "      <td>558</td>\n",
              "      <td>0.618505</td>\n",
              "    </tr>\n",
              "    <tr>\n",
              "      <th>645</th>\n",
              "      <td>510</td>\n",
              "      <td>1203</td>\n",
              "      <td>DE</td>\n",
              "      <td>1.036507</td>\n",
              "      <td>0.450521</td>\n",
              "      <td>1.088059</td>\n",
              "      <td>-1.088059</td>\n",
              "      <td>0.211113</td>\n",
              "      <td>-1.404554</td>\n",
              "      <td>-0.211113</td>\n",
              "      <td>...</td>\n",
              "      <td>-0.077136</td>\n",
              "      <td>0.991121</td>\n",
              "      <td>2.040713</td>\n",
              "      <td>-1.868996</td>\n",
              "      <td>-1.839327</td>\n",
              "      <td>1.003526</td>\n",
              "      <td>-0.603416</td>\n",
              "      <td>-0.143810</td>\n",
              "      <td>510</td>\n",
              "      <td>0.699819</td>\n",
              "    </tr>\n",
              "    <tr>\n",
              "      <th>647</th>\n",
              "      <td>139</td>\n",
              "      <td>1206</td>\n",
              "      <td>DE</td>\n",
              "      <td>0.611063</td>\n",
              "      <td>-0.166570</td>\n",
              "      <td>-0.221738</td>\n",
              "      <td>0.221738</td>\n",
              "      <td>0.045492</td>\n",
              "      <td>0.302293</td>\n",
              "      <td>-0.045492</td>\n",
              "      <td>...</td>\n",
              "      <td>1.041395</td>\n",
              "      <td>-0.763306</td>\n",
              "      <td>-0.341595</td>\n",
              "      <td>0.523483</td>\n",
              "      <td>0.117366</td>\n",
              "      <td>-0.234023</td>\n",
              "      <td>1.145696</td>\n",
              "      <td>0.262949</td>\n",
              "      <td>139</td>\n",
              "      <td>0.355194</td>\n",
              "    </tr>\n",
              "    <tr>\n",
              "      <th>650</th>\n",
              "      <td>452</td>\n",
              "      <td>1210</td>\n",
              "      <td>DE</td>\n",
              "      <td>1.741160</td>\n",
              "      <td>1.823518</td>\n",
              "      <td>1.588180</td>\n",
              "      <td>-1.588180</td>\n",
              "      <td>2.061425</td>\n",
              "      <td>0.083979</td>\n",
              "      <td>-2.061425</td>\n",
              "      <td>...</td>\n",
              "      <td>1.041395</td>\n",
              "      <td>-0.763306</td>\n",
              "      <td>-0.341595</td>\n",
              "      <td>0.523483</td>\n",
              "      <td>0.117366</td>\n",
              "      <td>-0.035345</td>\n",
              "      <td>1.760113</td>\n",
              "      <td>1.481091</td>\n",
              "      <td>452</td>\n",
              "      <td>-0.838942</td>\n",
              "    </tr>\n",
              "    <tr>\n",
              "      <th>652</th>\n",
              "      <td>270</td>\n",
              "      <td>1211</td>\n",
              "      <td>DE</td>\n",
              "      <td>-0.260011</td>\n",
              "      <td>-1.022730</td>\n",
              "      <td>-1.208286</td>\n",
              "      <td>1.208286</td>\n",
              "      <td>-1.203534</td>\n",
              "      <td>1.170144</td>\n",
              "      <td>1.203534</td>\n",
              "      <td>...</td>\n",
              "      <td>-0.337370</td>\n",
              "      <td>-0.415788</td>\n",
              "      <td>-0.627293</td>\n",
              "      <td>-1.015212</td>\n",
              "      <td>0.642532</td>\n",
              "      <td>0.698900</td>\n",
              "      <td>-0.120277</td>\n",
              "      <td>0.543710</td>\n",
              "      <td>270</td>\n",
              "      <td>0.611812</td>\n",
              "    </tr>\n",
              "  </tbody>\n",
              "</table>\n",
              "<p>289 rows × 37 columns</p>\n",
              "</div>\n",
              "    <div class=\"colab-df-buttons\">\n",
              "\n",
              "  <div class=\"colab-df-container\">\n",
              "    <button class=\"colab-df-convert\" onclick=\"convertToInteractive('df-8da05488-cda6-4a5c-ae44-ab4df27b71d0')\"\n",
              "            title=\"Convert this dataframe to an interactive table.\"\n",
              "            style=\"display:none;\">\n",
              "\n",
              "  <svg xmlns=\"http://www.w3.org/2000/svg\" height=\"24px\" viewBox=\"0 -960 960 960\">\n",
              "    <path d=\"M120-120v-720h720v720H120Zm60-500h600v-160H180v160Zm220 220h160v-160H400v160Zm0 220h160v-160H400v160ZM180-400h160v-160H180v160Zm440 0h160v-160H620v160ZM180-180h160v-160H180v160Zm440 0h160v-160H620v160Z\"/>\n",
              "  </svg>\n",
              "    </button>\n",
              "\n",
              "  <style>\n",
              "    .colab-df-container {\n",
              "      display:flex;\n",
              "      gap: 12px;\n",
              "    }\n",
              "\n",
              "    .colab-df-convert {\n",
              "      background-color: #E8F0FE;\n",
              "      border: none;\n",
              "      border-radius: 50%;\n",
              "      cursor: pointer;\n",
              "      display: none;\n",
              "      fill: #1967D2;\n",
              "      height: 32px;\n",
              "      padding: 0 0 0 0;\n",
              "      width: 32px;\n",
              "    }\n",
              "\n",
              "    .colab-df-convert:hover {\n",
              "      background-color: #E2EBFA;\n",
              "      box-shadow: 0px 1px 2px rgba(60, 64, 67, 0.3), 0px 1px 3px 1px rgba(60, 64, 67, 0.15);\n",
              "      fill: #174EA6;\n",
              "    }\n",
              "\n",
              "    .colab-df-buttons div {\n",
              "      margin-bottom: 4px;\n",
              "    }\n",
              "\n",
              "    [theme=dark] .colab-df-convert {\n",
              "      background-color: #3B4455;\n",
              "      fill: #D2E3FC;\n",
              "    }\n",
              "\n",
              "    [theme=dark] .colab-df-convert:hover {\n",
              "      background-color: #434B5C;\n",
              "      box-shadow: 0px 1px 3px 1px rgba(0, 0, 0, 0.15);\n",
              "      filter: drop-shadow(0px 1px 2px rgba(0, 0, 0, 0.3));\n",
              "      fill: #FFFFFF;\n",
              "    }\n",
              "  </style>\n",
              "\n",
              "    <script>\n",
              "      const buttonEl =\n",
              "        document.querySelector('#df-8da05488-cda6-4a5c-ae44-ab4df27b71d0 button.colab-df-convert');\n",
              "      buttonEl.style.display =\n",
              "        google.colab.kernel.accessAllowed ? 'block' : 'none';\n",
              "\n",
              "      async function convertToInteractive(key) {\n",
              "        const element = document.querySelector('#df-8da05488-cda6-4a5c-ae44-ab4df27b71d0');\n",
              "        const dataTable =\n",
              "          await google.colab.kernel.invokeFunction('convertToInteractive',\n",
              "                                                    [key], {});\n",
              "        if (!dataTable) return;\n",
              "\n",
              "        const docLinkHtml = 'Like what you see? Visit the ' +\n",
              "          '<a target=\"_blank\" href=https://colab.research.google.com/notebooks/data_table.ipynb>data table notebook</a>'\n",
              "          + ' to learn more about interactive tables.';\n",
              "        element.innerHTML = '';\n",
              "        dataTable['output_type'] = 'display_data';\n",
              "        await google.colab.output.renderOutput(dataTable, element);\n",
              "        const docLink = document.createElement('div');\n",
              "        docLink.innerHTML = docLinkHtml;\n",
              "        element.appendChild(docLink);\n",
              "      }\n",
              "    </script>\n",
              "  </div>\n",
              "\n",
              "\n",
              "<div id=\"df-852e434e-5dbc-4b4e-8195-e65f08decf07\">\n",
              "  <button class=\"colab-df-quickchart\" onclick=\"quickchart('df-852e434e-5dbc-4b4e-8195-e65f08decf07')\"\n",
              "            title=\"Suggest charts\"\n",
              "            style=\"display:none;\">\n",
              "\n",
              "<svg xmlns=\"http://www.w3.org/2000/svg\" height=\"24px\"viewBox=\"0 0 24 24\"\n",
              "     width=\"24px\">\n",
              "    <g>\n",
              "        <path d=\"M19 3H5c-1.1 0-2 .9-2 2v14c0 1.1.9 2 2 2h14c1.1 0 2-.9 2-2V5c0-1.1-.9-2-2-2zM9 17H7v-7h2v7zm4 0h-2V7h2v10zm4 0h-2v-4h2v4z\"/>\n",
              "    </g>\n",
              "</svg>\n",
              "  </button>\n",
              "\n",
              "<style>\n",
              "  .colab-df-quickchart {\n",
              "      --bg-color: #E8F0FE;\n",
              "      --fill-color: #1967D2;\n",
              "      --hover-bg-color: #E2EBFA;\n",
              "      --hover-fill-color: #174EA6;\n",
              "      --disabled-fill-color: #AAA;\n",
              "      --disabled-bg-color: #DDD;\n",
              "  }\n",
              "\n",
              "  [theme=dark] .colab-df-quickchart {\n",
              "      --bg-color: #3B4455;\n",
              "      --fill-color: #D2E3FC;\n",
              "      --hover-bg-color: #434B5C;\n",
              "      --hover-fill-color: #FFFFFF;\n",
              "      --disabled-bg-color: #3B4455;\n",
              "      --disabled-fill-color: #666;\n",
              "  }\n",
              "\n",
              "  .colab-df-quickchart {\n",
              "    background-color: var(--bg-color);\n",
              "    border: none;\n",
              "    border-radius: 50%;\n",
              "    cursor: pointer;\n",
              "    display: none;\n",
              "    fill: var(--fill-color);\n",
              "    height: 32px;\n",
              "    padding: 0;\n",
              "    width: 32px;\n",
              "  }\n",
              "\n",
              "  .colab-df-quickchart:hover {\n",
              "    background-color: var(--hover-bg-color);\n",
              "    box-shadow: 0 1px 2px rgba(60, 64, 67, 0.3), 0 1px 3px 1px rgba(60, 64, 67, 0.15);\n",
              "    fill: var(--button-hover-fill-color);\n",
              "  }\n",
              "\n",
              "  .colab-df-quickchart-complete:disabled,\n",
              "  .colab-df-quickchart-complete:disabled:hover {\n",
              "    background-color: var(--disabled-bg-color);\n",
              "    fill: var(--disabled-fill-color);\n",
              "    box-shadow: none;\n",
              "  }\n",
              "\n",
              "  .colab-df-spinner {\n",
              "    border: 2px solid var(--fill-color);\n",
              "    border-color: transparent;\n",
              "    border-bottom-color: var(--fill-color);\n",
              "    animation:\n",
              "      spin 1s steps(1) infinite;\n",
              "  }\n",
              "\n",
              "  @keyframes spin {\n",
              "    0% {\n",
              "      border-color: transparent;\n",
              "      border-bottom-color: var(--fill-color);\n",
              "      border-left-color: var(--fill-color);\n",
              "    }\n",
              "    20% {\n",
              "      border-color: transparent;\n",
              "      border-left-color: var(--fill-color);\n",
              "      border-top-color: var(--fill-color);\n",
              "    }\n",
              "    30% {\n",
              "      border-color: transparent;\n",
              "      border-left-color: var(--fill-color);\n",
              "      border-top-color: var(--fill-color);\n",
              "      border-right-color: var(--fill-color);\n",
              "    }\n",
              "    40% {\n",
              "      border-color: transparent;\n",
              "      border-right-color: var(--fill-color);\n",
              "      border-top-color: var(--fill-color);\n",
              "    }\n",
              "    60% {\n",
              "      border-color: transparent;\n",
              "      border-right-color: var(--fill-color);\n",
              "    }\n",
              "    80% {\n",
              "      border-color: transparent;\n",
              "      border-right-color: var(--fill-color);\n",
              "      border-bottom-color: var(--fill-color);\n",
              "    }\n",
              "    90% {\n",
              "      border-color: transparent;\n",
              "      border-bottom-color: var(--fill-color);\n",
              "    }\n",
              "  }\n",
              "</style>\n",
              "\n",
              "  <script>\n",
              "    async function quickchart(key) {\n",
              "      const quickchartButtonEl =\n",
              "        document.querySelector('#' + key + ' button');\n",
              "      quickchartButtonEl.disabled = true;  // To prevent multiple clicks.\n",
              "      quickchartButtonEl.classList.add('colab-df-spinner');\n",
              "      try {\n",
              "        const charts = await google.colab.kernel.invokeFunction(\n",
              "            'suggestCharts', [key], {});\n",
              "      } catch (error) {\n",
              "        console.error('Error during call to suggestCharts:', error);\n",
              "      }\n",
              "      quickchartButtonEl.classList.remove('colab-df-spinner');\n",
              "      quickchartButtonEl.classList.add('colab-df-quickchart-complete');\n",
              "    }\n",
              "    (() => {\n",
              "      let quickchartButtonEl =\n",
              "        document.querySelector('#df-852e434e-5dbc-4b4e-8195-e65f08decf07 button');\n",
              "      quickchartButtonEl.style.display =\n",
              "        google.colab.kernel.accessAllowed ? 'block' : 'none';\n",
              "    })();\n",
              "  </script>\n",
              "</div>\n",
              "    </div>\n",
              "  </div>\n"
            ],
            "application/vnd.google.colaboratory.intrinsic+json": {
              "type": "dataframe",
              "variable_name": "X_test_DE"
            }
          },
          "metadata": {},
          "execution_count": 44
        }
      ],
      "source": [
        "fill_missing_values(X_train_FR, fill)\n",
        "fill_missing_values(X_train_DE, fill)\n",
        "\n",
        "fill_missing_values(X_test_FR, fill)\n",
        "fill_missing_values(X_test_DE, fill)"
      ]
    },
    {
      "cell_type": "code",
      "execution_count": 45,
      "metadata": {
        "id": "xdlQFBFfkhjH"
      },
      "outputs": [],
      "source": [
        "columns_to_interpolate = ['DE_FR_EXCHANGE', 'FR_DE_EXCHANGE', 'DE_NET_EXPORT', 'FR_NET_EXPORT', 'DE_NET_IMPORT', 'FR_NET_IMPORT']\n",
        "#Interpolates missing values in specific columns of the given dataframes.\n",
        "X_train_FR[columns_to_interpolate] = X_train_FR[columns_to_interpolate].interpolate(method='linear', limit_direction='both', axis=0)\n",
        "X_train_DE[columns_to_interpolate] = X_train_DE[columns_to_interpolate].interpolate(method='linear', limit_direction='both', axis=0)\n",
        "\n",
        "X_test_FR[columns_to_interpolate] = X_test_FR[columns_to_interpolate].interpolate(method='linear', limit_direction='both', axis=0)\n",
        "X_test_DE[columns_to_interpolate] = X_test_DE[columns_to_interpolate].interpolate(method='linear', limit_direction='both', axis=0)"
      ]
    },
    {
      "cell_type": "code",
      "execution_count": 46,
      "metadata": {
        "id": "IIDHUZB7khjI"
      },
      "outputs": [],
      "source": [
        "def calculate_fuel_cost(df):\n",
        "    \"\"\"\n",
        "    Calculates the fuel cost for different countries and fuel types.\n",
        "\n",
        "    Parameters:\n",
        "    df (pandas.DataFrame): The input DataFrame containing the necessary columns.\n",
        "\n",
        "    Returns:\n",
        "    pandas.DataFrame: The DataFrame with additional columns for fuel costs.\n",
        "\n",
        "    \"\"\"\n",
        "    for ctry, kind in product(['DE', 'FR'], ['COAL', 'GAS']):\n",
        "        df[f'{ctry}_{kind}_COST'] = df[f'{kind}_RET'] * df[f'{ctry}_{kind}']\n",
        "    df['DE_LIGNITE_COST'] = df['COAL_RET'] * df['DE_LIGNITE']\n",
        "    return df"
      ]
    },
    {
      "cell_type": "code",
      "execution_count": 47,
      "metadata": {
        "id": "asKpH60VkhjJ"
      },
      "outputs": [],
      "source": [
        "X_train_DE = calculate_fuel_cost(X_train_DE)\n",
        "\n",
        "X_test_DE = calculate_fuel_cost(X_test_DE)\n"
      ]
    },
    {
      "cell_type": "code",
      "execution_count": 48,
      "metadata": {
        "id": "h7sjuClckhjK"
      },
      "outputs": [],
      "source": [
        "X_train_FR = calculate_fuel_cost(X_train_FR)\n",
        "\n",
        "X_test_FR = calculate_fuel_cost(X_test_FR)\n"
      ]
    },
    {
      "cell_type": "code",
      "execution_count": 49,
      "metadata": {
        "id": "FFwOKDwukhjL"
      },
      "outputs": [],
      "source": [
        "carbon_footprint_weights = {'LIGNITE': 1.05, 'COAL': 0.85, 'GAS': 0.7}"
      ]
    },
    {
      "cell_type": "code",
      "execution_count": 50,
      "metadata": {
        "id": "9FQ9Da3MkhjL"
      },
      "outputs": [],
      "source": [
        "def calculate_carbon_footprint(df, carbon_footprint_weights):\n",
        "    \"\"\"\n",
        "    Calculates the carbon footprint for each country and fuel type based on the given dataframe and carbon footprint weights.\n",
        "    \"\"\"\n",
        "    for ctry, kind in product(['DE', 'FR'], ['COAL', 'GAS']):\n",
        "        df[f'{ctry}_{kind}_CARBON'] = carbon_footprint_weights[kind] * df['CARBON_RET'] * df[f'{ctry}_{kind}']\n",
        "    df['DE_LIGNITE_CARBON'] = carbon_footprint_weights['LIGNITE'] * df['CARBON_RET'] * df['DE_LIGNITE']\n",
        "    return df"
      ]
    },
    {
      "cell_type": "code",
      "execution_count": 51,
      "metadata": {
        "id": "XZSkbZa-khjM"
      },
      "outputs": [],
      "source": [
        "X_train_FR = calculate_carbon_footprint(X_train_FR, carbon_footprint_weights)\n",
        "\n",
        "X_test_FR = calculate_carbon_footprint(X_test_FR, carbon_footprint_weights)\n"
      ]
    },
    {
      "cell_type": "code",
      "execution_count": 52,
      "metadata": {
        "id": "jzxvElmTkhjM"
      },
      "outputs": [],
      "source": [
        "X_train_DE = calculate_carbon_footprint(X_train_DE, carbon_footprint_weights)\n",
        "\n",
        "X_test_DE = calculate_carbon_footprint(X_test_DE, carbon_footprint_weights)\n"
      ]
    },
    {
      "cell_type": "code",
      "execution_count": 53,
      "metadata": {
        "id": "BhG4b662khjN"
      },
      "outputs": [],
      "source": [
        "fr_coal_on = -0.725"
      ]
    },
    {
      "cell_type": "code",
      "execution_count": 54,
      "metadata": {
        "id": "MJyVqb9HkhjN"
      },
      "outputs": [],
      "source": [
        "X_train_FR['FR_COAL_ON'] = 1\n",
        "X_train_FR.loc[X_train_FR['FR_COAL'] < fr_coal_on, 'FR_COAL_ON'] = 0\n",
        "\n",
        "X_test_FR['FR_COAL_ON'] = 1\n",
        "X_test_FR.loc[X_test_FR['FR_COAL'] < fr_coal_on, 'FR_COAL_ON'] = 0"
      ]
    },
    {
      "cell_type": "code",
      "execution_count": 55,
      "metadata": {
        "id": "bsSqhoJikhjP"
      },
      "outputs": [],
      "source": [
        "def country_flow(data):\n",
        "\t\"\"\"\n",
        "\tTransforms the given data by rearranging columns based on the country.\n",
        "\t\"\"\"\n",
        "\tdf = data.copy()\n",
        "\tdf['EXCHANGE'] = np.where(df['COUNTRY'] == 'DE', df['DE_FR_EXCHANGE'], df['FR_DE_EXCHANGE'])\n",
        "\tdf['SELF_EXPORT'] = np.where(df['COUNTRY'] == 'DE', df['DE_NET_EXPORT'], df['FR_NET_EXPORT'])\n",
        "\tdf['OTHER_EXPORT'] = np.where(df['COUNTRY'] == 'DE', df['FR_NET_EXPORT'], df['DE_NET_EXPORT'])\n",
        "\tdf['SELF_CONSUMPTION'] = np.where(df['COUNTRY'] == 'DE', df['DE_CONSUMPTION'], df['FR_CONSUMPTION'])\n",
        "\tdf['OTHER_CONSUMPTION'] = np.where(df['COUNTRY'] == 'DE', df['FR_CONSUMPTION'], df['DE_CONSUMPTION'])\n",
        "\tdf = df.drop(['DE_CONSUMPTION', 'FR_CONSUMPTION', 'DE_FR_EXCHANGE', 'FR_DE_EXCHANGE', 'DE_NET_EXPORT',\n",
        "\t\t\t\t  'DE_NET_IMPORT', 'FR_NET_EXPORT', 'FR_NET_IMPORT'], axis=1)\n",
        "\treturn df"
      ]
    },
    {
      "cell_type": "code",
      "execution_count": 56,
      "metadata": {
        "id": "_c-v50OCkhjP"
      },
      "outputs": [],
      "source": [
        "X_train_FR = country_flow(X_train_FR)\n",
        "X_train_DE = country_flow(X_train_DE)\n",
        "\n",
        "X_test_FR = country_flow(X_test_FR)\n",
        "X_test_DE = country_flow(X_test_DE)\n"
      ]
    },
    {
      "cell_type": "code",
      "source": [
        "Y_train_DE = X_train_DE[['TARGET']]\n",
        "X_train_DE = X_train_DE.drop(['TARGET', 'ID', 'DAY_ID', 'COUNTRY'], axis=1)\n",
        "\n",
        "Y_train_FR = X_train_FR[['TARGET']]\n",
        "X_train_FR = X_train_FR.drop(['TARGET', 'ID', 'DAY_ID', 'COUNTRY'], axis=1)\n"
      ],
      "metadata": {
        "id": "2kj0ML3OrKK8"
      },
      "execution_count": 5,
      "outputs": []
    },
    {
      "cell_type": "code",
      "source": [
        "Y_test_DE = X_test_DE[['TARGET']]\n",
        "X_test_DE = X_test_DE.drop(['TARGET', 'ID', 'DAY_ID', 'COUNTRY'], axis=1)\n",
        "\n",
        "Y_test_FR = X_test_FR[['TARGET']]\n",
        "X_test_FR = X_test_FR.drop(['TARGET', 'ID', 'DAY_ID', 'COUNTRY'], axis=1)\n"
      ],
      "metadata": {
        "id": "pcRYN2BIr1gp"
      },
      "execution_count": 6,
      "outputs": []
    },
    {
      "cell_type": "code",
      "source": [
        "X_train_DE = preprocessing.normalize(X_train_DE)\n",
        "X_test_DE = preprocessing.normalize(X_test_DE)\n",
        "\n",
        "X_train_FR = preprocessing.normalize(X_train_FR)\n",
        "X_test_FR = preprocessing.normalize(X_test_FR)\n",
        "\n",
        "Y_train_DE = preprocessing.normalize(Y_train_DE)\n",
        "Y_test_DE = preprocessing.normalize(Y_test_DE)\n",
        "\n",
        "Y_train_FR = preprocessing.normalize(Y_train_FR)\n",
        "Y_test_FR = preprocessing.normalize(Y_test_FR)"
      ],
      "metadata": {
        "id": "mkAS8Go_oK0N"
      },
      "execution_count": null,
      "outputs": []
    },
    {
      "cell_type": "markdown",
      "source": [
        "## Model Development:"
      ],
      "metadata": {
        "id": "6Um4U0B1oAbY"
      }
    },
    {
      "cell_type": "markdown",
      "source": [
        "**Bagging Model**"
      ],
      "metadata": {
        "id": "VjlnWbYWoBz7"
      }
    },
    {
      "cell_type": "code",
      "source": [
        "# Initialize the Bagging Regressor model\n",
        "bagging_model_DE = BaggingRegressor(random_state=42)\n",
        "bagging_model_FR = BaggingRegressor(random_state=42)\n",
        "\n",
        "# Fit the model with the training data\n",
        "bagging_model_DE.fit(X_train_DE, Y_train_DE.ravel())\n",
        "bagging_model_FR.fit(X_train_FR, Y_train_FR.ravel())\n",
        "\n",
        "# Predict the target variable for the test data\n",
        "Y_pred_DE = bagging_model_DE.predict(X_test_DE)\n",
        "Y_pred_FR = bagging_model_FR.predict(X_test_FR)\n",
        "\n",
        "\n",
        "# Function to calculate MAPE\n",
        "def mean_absolute_percentage_error(y_true, y_pred):\n",
        "    return np.mean(np.abs((y_true - y_pred) / y_true)) * 100\n",
        "\n",
        "# Compute the Mean Absolute Percentage Error (MAPE) of the predicted target variable against the test data\n",
        "mape_de = mean_absolute_percentage_error(Y_test_DE.ravel(), Y_pred_DE)\n",
        "mape_fr = mean_absolute_percentage_error(Y_test_FR.ravel(), Y_pred_FR)\n",
        "\n",
        "# Compute the Mean Squared Error (MSE) and Mean Absolute Error (MAE) of the predicted target variable against the test data\n",
        "mse_de = mean_squared_error(Y_test_DE, Y_pred_DE)\n",
        "mae_de = mean_absolute_error(Y_test_DE, Y_pred_DE)\n",
        "\n",
        "mse_fr = mean_squared_error(Y_test_FR, Y_pred_FR)\n",
        "mae_fr = mean_absolute_error(Y_test_FR, Y_pred_FR)\n",
        "\n",
        "print(\"Germany - MSE: \", mse_de)\n",
        "print(\"Germany - MAE: \", mae_de)\n",
        "print(\"Germany - MAPE: \", mape_de,\"%\")\n",
        "print(\"France - MSE: \", mse_fr)\n",
        "print(\"France - MAE: \", mae_fr)\n",
        "print(\"France - MAPE: \", mape_fr,\"%\")"
      ],
      "metadata": {
        "colab": {
          "base_uri": "https://localhost:8080/"
        },
        "id": "9Sr4-MMOtXy6",
        "outputId": "33ccbe55-ff9f-4e79-a6af-5eaa034a2dfa"
      },
      "execution_count": 79,
      "outputs": [
        {
          "output_type": "stream",
          "name": "stdout",
          "text": [
            "Germany - MSE:  1.1364359861591695\n",
            "Germany - MAE:  0.957439446366782\n",
            "Germany - MAPE:  95.74394463667821 %\n",
            "France - MSE:  1.1942739726027396\n",
            "France - MAE:  1.0210958904109588\n",
            "France - MAPE:  102.10958904109589 %\n"
          ]
        }
      ]
    },
    {
      "cell_type": "markdown",
      "source": [
        "**Bagging Model (with hyperparameter tuning and cross-validation)**"
      ],
      "metadata": {
        "id": "6BFrnuNyoqM9"
      }
    },
    {
      "cell_type": "code",
      "source": [
        "# Define the parameters for the grid search\n",
        "parameters = {\n",
        "    'n_estimators': [10, 50, 100, 200],\n",
        "    'max_samples': [0.5, 0.75, 1.0],\n",
        "    'max_features': [0.5, 0.75, 1.0],\n",
        "    'bootstrap': [True, False],\n",
        "    'bootstrap_features': [True, False]\n",
        "}\n",
        "\n",
        "# Initialize the Bagging Regressor model\n",
        "bagging_model_DE = BaggingRegressor(random_state=42)\n",
        "bagging_model_FR = BaggingRegressor(random_state=42)\n",
        "\n",
        "# Initialize the GridSearchCV model\n",
        "grid_search_DE = GridSearchCV(bagging_model_DE, parameters, cv=5)\n",
        "grid_search_FR = GridSearchCV(bagging_model_FR, parameters, cv=5)\n",
        "\n",
        "# Fit the model with the training data\n",
        "grid_search_DE.fit(X_train_DE, Y_train_DE.ravel())\n",
        "grid_search_FR.fit(X_train_FR, Y_train_FR.ravel())\n",
        "\n",
        "# Get the best parameters\n",
        "best_params_DE = grid_search_DE.best_params_\n",
        "best_params_FR = grid_search_FR.best_params_\n",
        "\n",
        "# Print the best parameters\n",
        "print(\"Best parameters for Germany: \", best_params_DE)\n",
        "print(\"Best parameters for France: \", best_params_FR)\n",
        "\n",
        "# Predict the target variable for the test data\n",
        "Y_pred_DE = grid_search_DE.predict(X_test_DE)\n",
        "Y_pred_FR = grid_search_FR.predict(X_test_FR)\n",
        "\n",
        "# Function to calculate MAPE\n",
        "def mean_absolute_percentage_error(y_true, y_pred):\n",
        "    return np.mean(np.abs((y_true - y_pred) / y_true)) * 100\n",
        "\n",
        "# Compute the Mean Absolute Percentage Error (MAPE) of the predicted target variable against the test data\n",
        "mape_de = mean_absolute_percentage_error(Y_test_DE.ravel(), Y_pred_DE)\n",
        "mape_fr = mean_absolute_percentage_error(Y_test_FR.ravel(), Y_pred_FR)\n",
        "\n",
        "# Compute the Mean Squared Error (MSE) and Mean Absolute Error (MAE) of the predicted target variable against the test data\n",
        "mse_de = mean_squared_error(Y_test_DE, Y_pred_DE)\n",
        "mae_de = mean_absolute_error(Y_test_DE, Y_pred_DE)\n",
        "\n",
        "mse_fr = mean_squared_error(Y_test_FR, Y_pred_FR)\n",
        "mae_fr = mean_absolute_error(Y_test_FR, Y_pred_FR)\n",
        "\n",
        "print(\"Germany - MSE: \", mse_de)\n",
        "print(\"Germany - MAE: \", mae_de)\n",
        "print(\"Germany - MAPE: \", mape_de,\"%\")\n",
        "print(\"France - MSE: \", mse_fr)\n",
        "print(\"France - MAE: \", mae_fr)\n",
        "print(\"France - MAPE: \", mape_fr,\"%\")"
      ],
      "metadata": {
        "colab": {
          "base_uri": "https://localhost:8080/"
        },
        "id": "q0dp5_oUwq2p",
        "outputId": "2baa1d24-0e6f-4371-a1fd-3f02340a324f"
      },
      "execution_count": 12,
      "outputs": [
        {
          "output_type": "stream",
          "name": "stdout",
          "text": [
            "Best parameters for Germany:  {'bootstrap': False, 'bootstrap_features': False, 'max_features': 0.5, 'max_samples': 0.5, 'n_estimators': 200}\n",
            "Best parameters for France:  {'bootstrap': True, 'bootstrap_features': True, 'max_features': 0.5, 'max_samples': 0.5, 'n_estimators': 100}\n",
            "Germany - MSE:  1.0765463667820068\n",
            "Germany - MAE:  0.9847058823529413\n",
            "Germany - MAPE:  98.47058823529413 %\n",
            "France - MSE:  1.0791446575342467\n",
            "France - MAE:  1.0141917808219176\n",
            "France - MAPE:  101.41917808219176 %\n"
          ]
        }
      ]
    },
    {
      "cell_type": "markdown",
      "source": [
        "**AdaBoost Model**"
      ],
      "metadata": {
        "id": "onCj08AOoYLy"
      }
    },
    {
      "cell_type": "code",
      "source": [
        "# Initialize the AdaBoost Regressor model\n",
        "boosting_model_DE = AdaBoostRegressor(random_state=42)\n",
        "boosting_model_FR = AdaBoostRegressor(random_state=42)\n",
        "\n",
        "# Fit the model with the training data\n",
        "boosting_model_DE.fit(X_train_DE, Y_train_DE.ravel())\n",
        "boosting_model_FR.fit(X_train_FR, Y_train_FR.ravel())\n",
        "\n",
        "# Predict the target variable for the test data\n",
        "Y_pred_DE = boosting_model_DE.predict(X_test_DE)\n",
        "Y_pred_FR = boosting_model_FR.predict(X_test_FR)\n",
        "\n",
        "\n",
        "# Function to calculate MAPE\n",
        "def mean_absolute_percentage_error(y_true, y_pred):\n",
        "    return np.mean(np.abs((y_true - y_pred) / y_true)) * 100\n",
        "\n",
        "# Compute the Mean Absolute Percentage Error (MAPE) of the predicted target variable against the test data\n",
        "mape_de = mean_absolute_percentage_error(Y_test_DE.ravel(), Y_pred_DE)\n",
        "mape_fr = mean_absolute_percentage_error(Y_test_FR.ravel(), Y_pred_FR)\n",
        "\n",
        "# Compute the Mean Squared Error (MSE) and Mean Absolute Error (MAE) of the predicted target variable against the test data\n",
        "mse_de = mean_squared_error(Y_test_DE, Y_pred_DE)\n",
        "mae_de = mean_absolute_error(Y_test_DE, Y_pred_DE)\n",
        "\n",
        "mse_fr = mean_squared_error(Y_test_FR, Y_pred_FR)\n",
        "mae_fr = mean_absolute_error(Y_test_FR, Y_pred_FR)\n",
        "\n",
        "print(\"Germany - MSE: \", mse_de)\n",
        "print(\"Germany - MAE: \", mae_de)\n",
        "print(\"Germany - MAPE: \", mape_de,\"%\")\n",
        "print(\"France - MSE: \", mse_fr)\n",
        "print(\"France - MAE: \", mae_fr)\n",
        "print(\"France - MAPE: \", mape_fr,\"%\")"
      ],
      "metadata": {
        "colab": {
          "base_uri": "https://localhost:8080/"
        },
        "id": "XePQWLP9xfNC",
        "outputId": "f7318245-8646-4544-c5fa-2cb15cca6d61"
      },
      "execution_count": 81,
      "outputs": [
        {
          "output_type": "stream",
          "name": "stdout",
          "text": [
            "Germany - MSE:  1.1031523068528057\n",
            "Germany - MAE:  1.0125743147524482\n",
            "Germany - MAPE:  101.25743147524481 %\n",
            "France - MSE:  1.154529026874893\n",
            "France - MAE:  1.0001919337390008\n",
            "France - MAPE:  100.01919337390008 %\n"
          ]
        }
      ]
    },
    {
      "cell_type": "markdown",
      "source": [
        "**AdaBoost Model (with hyperparameter tuning and cross-validation)**"
      ],
      "metadata": {
        "id": "q3M85BcwofUI"
      }
    },
    {
      "cell_type": "code",
      "source": [
        "# Define the parameters for the grid search\n",
        "parameters = {\n",
        "    'n_estimators': [50, 100, 200],\n",
        "    'learning_rate': [0.05, 0.1, 0.5, 1.0],\n",
        "    'loss': ['linear', 'square', 'exponential']\n",
        "}\n",
        "\n",
        "# Initialize the AdaBoost Regressor model\n",
        "boosting_model_DE = AdaBoostRegressor(random_state=42)\n",
        "boosting_model_FR = AdaBoostRegressor(random_state=42)\n",
        "\n",
        "# Initialize the GridSearchCV model\n",
        "grid_search_DE = GridSearchCV(boosting_model_DE, parameters, cv=5)\n",
        "grid_search_FR = GridSearchCV(boosting_model_FR, parameters, cv=5)\n",
        "\n",
        "# Fit the model with the training data\n",
        "grid_search_DE.fit(X_train_DE, Y_train_DE.ravel())\n",
        "grid_search_FR.fit(X_train_FR, Y_train_FR.ravel())\n",
        "\n",
        "# Get the best parameters\n",
        "best_params_DE = grid_search_DE.best_params_\n",
        "best_params_FR = grid_search_FR.best_params_\n",
        "\n",
        "# Print the best parameters\n",
        "print(\"Best parameters for Germany: \", best_params_DE)\n",
        "print(\"Best parameters for France: \", best_params_FR)\n",
        "\n",
        "# Predict the target variable for the test data\n",
        "Y_pred_DE = grid_search_DE.predict(X_test_DE)\n",
        "Y_pred_FR = grid_search_FR.predict(X_test_FR)\n",
        "\n",
        "# Function to calculate MAPE\n",
        "def mean_absolute_percentage_error(y_true, y_pred):\n",
        "    return np.mean(np.abs((y_true - y_pred) / y_true)) * 100\n",
        "\n",
        "# Compute the Mean Absolute Percentage Error (MAPE) of the predicted target variable against the test data\n",
        "mape_de = mean_absolute_percentage_error(Y_test_DE.ravel(), Y_pred_DE)\n",
        "mape_fr = mean_absolute_percentage_error(Y_test_FR.ravel(), Y_pred_FR)\n",
        "\n",
        "# Compute the Mean Squared Error (MSE) and Mean Absolute Error (MAE) of the predicted target variable against the test data\n",
        "mse_de = mean_squared_error(Y_test_DE, Y_pred_DE)\n",
        "mae_de = mean_absolute_error(Y_test_DE, Y_pred_DE)\n",
        "\n",
        "mse_fr = mean_squared_error(Y_test_FR, Y_pred_FR)\n",
        "mae_fr = mean_absolute_error(Y_test_FR, Y_pred_FR)\n",
        "\n",
        "print(\"Germany - MSE: \", mse_de)\n",
        "print(\"Germany - MAE: \", mae_de)\n",
        "print(\"Germany - MAPE: \", mape_de,\"%\")\n",
        "print(\"France - MSE: \", mse_fr)\n",
        "print(\"France - MAE: \", mae_fr)\n",
        "print(\"France - MAPE: \", mape_fr,\"%\")"
      ],
      "metadata": {
        "colab": {
          "base_uri": "https://localhost:8080/"
        },
        "id": "uPWksp5KTHy9",
        "outputId": "2d9db752-b9c7-4c6e-d349-229c2a52136d"
      },
      "execution_count": 14,
      "outputs": [
        {
          "output_type": "stream",
          "name": "stdout",
          "text": [
            "Best parameters for Germany:  {'learning_rate': 0.1, 'loss': 'linear', 'n_estimators': 50}\n",
            "Best parameters for France:  {'learning_rate': 0.1, 'loss': 'exponential', 'n_estimators': 50}\n",
            "Germany - MSE:  1.0708428143582807\n",
            "Germany - MAE:  0.9885108570057505\n",
            "Germany - MAPE:  98.85108570057504 %\n",
            "France - MSE:  1.0411528761073419\n",
            "France - MAE:  1.009280733427297\n",
            "France - MAPE:  100.9280733427297 %\n"
          ]
        }
      ]
    }
  ],
  "metadata": {
    "hide_input": false,
    "kernelspec": {
      "display_name": "Python 3.9.7",
      "language": "python",
      "name": "python3"
    },
    "language_info": {
      "codemirror_mode": {
        "name": "ipython",
        "version": 3
      },
      "file_extension": ".py",
      "mimetype": "text/x-python",
      "name": "python",
      "nbconvert_exporter": "python",
      "pygments_lexer": "ipython3",
      "version": "3.9.13"
    },
    "toc": {
      "base_numbering": 1,
      "nav_menu": {},
      "number_sections": true,
      "sideBar": true,
      "skip_h1_title": false,
      "title_cell": "Table of Contents",
      "title_sidebar": "Contents",
      "toc_cell": false,
      "toc_position": {},
      "toc_section_display": true,
      "toc_window_display": false
    },
    "vscode": {
      "interpreter": {
        "hash": "b000d5dfd48d5cfb646e041a58bba0acd5058d1ce315302d38314cb1a7d1b0d6"
      }
    },
    "colab": {
      "provenance": []
    }
  },
  "nbformat": 4,
  "nbformat_minor": 0
}