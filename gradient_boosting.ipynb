{
 "cells": [
  {
   "cell_type": "code",
   "execution_count": 1,
   "metadata": {},
   "outputs": [],
   "source": [
    "#import libraries\n",
    "import os\n",
    "import pandas as pd\n",
    "import numpy as np\n",
    "import matplotlib.pyplot as plt\n",
    "import seaborn as sns"
   ]
  },
  {
   "cell_type": "code",
   "execution_count": 2,
   "metadata": {},
   "outputs": [],
   "source": [
    "#import data\n",
    "france= pd.read_csv('data/X_train_FR.csv')\n",
    "Germany= pd.read_csv('data/X_train_DE.csv')"
   ]
  },
  {
   "cell_type": "code",
   "execution_count": 3,
   "metadata": {},
   "outputs": [],
   "source": [
    "france_y= france['TARGET']\n",
    "france_x= france.drop(['TARGET'], axis=1)\n",
    "\n",
    "Germany_y= Germany['TARGET']\n",
    "Germany_x= Germany.drop(['TARGET'], axis=1)"
   ]
  },
  {
   "cell_type": "code",
   "execution_count": 4,
   "metadata": {},
   "outputs": [],
   "source": [
    "from sklearn.preprocessing import OneHotEncoder\n",
    "# create an instance of the OneHotEncoder for France\n",
    "encoder_fr = OneHotEncoder()\n",
    "encoder_fr.fit(france_x)  # fit the encoder on France data\n",
    "\n",
    "# create an instance of the OneHotEncoder for Germany\n",
    "encoder_de = OneHotEncoder()\n",
    "encoder_de.fit(Germany_x)  # fit the encoder on Germany data\n",
    "\n",
    "# transform the categorical variables in the France dataset\n",
    "france_x_encoded = encoder_fr.transform(france_x)\n",
    "\n",
    "# transform the categorical variables in the Germany dataset\n",
    "Germany_x_encoded = encoder_de.transform(Germany_x)"
   ]
  },
  {
   "cell_type": "code",
   "execution_count": 5,
   "metadata": {},
   "outputs": [],
   "source": [
    "from sklearn.ensemble import GradientBoostingRegressor\n",
    "from sklearn.model_selection import train_test_split\n",
    "from sklearn.metrics import mean_squared_error, mean_absolute_error\n",
    "\n",
    "# split data\n",
    "france_x_train, france_x_test, france_y_train, france_y_test = train_test_split(france_x_encoded, france_y, test_size=0.2, random_state=69)\n",
    "Germany_x_train, Germany_x_test, Germany_y_train, Germany_y_test = train_test_split(Germany_x_encoded, Germany_y, test_size=0.2, random_state=69)\n",
    "\n",
    "# fit model\n",
    "france_gb = GradientBoostingRegressor(n_estimators=100, learning_rate=0.1, max_depth=1, random_state=69, loss='squared_error').fit(france_x_train, france_y_train)\n",
    "Germany_gb = GradientBoostingRegressor(n_estimators=100, learning_rate=0.1, max_depth=1, random_state=69, loss='squared_error').fit(Germany_x_train, Germany_y_train)\n",
    "\n",
    "# predict\n",
    "france_y_pred = france_gb.predict(france_x_test)\n",
    "Germany_y_pred = Germany_gb.predict(Germany_x_test)\n",
    "\n",
    "# evaluate\n",
    "france_mse = mean_squared_error(france_y_test, france_y_pred)\n",
    "Germany_mse = mean_squared_error(Germany_y_test, Germany_y_pred)\n",
    "\n",
    "# calculate MAE\n",
    "france_mae = mean_absolute_error(france_y_test, france_y_pred)\n",
    "Germany_mae = mean_absolute_error(Germany_y_test, Germany_y_pred)"
   ]
  },
  {
   "cell_type": "code",
   "execution_count": 7,
   "metadata": {},
   "outputs": [
    {
     "name": "stdout",
     "output_type": "stream",
     "text": [
      "France MSE: 0.8300436057295392\n",
      "France MAE: 0.47276651736370473\n",
      "Germany MSE: 1.30522113726273\n",
      "Germany MAE: 0.7128784849264842\n"
     ]
    }
   ],
   "source": [
    "#print results\n",
    "print('France MSE:', france_mse)\n",
    "print('France MAE:', france_mae)\n",
    "print('Germany MSE:', Germany_mse)\n",
    "print('Germany MAE:', Germany_mae)"
   ]
  },
  {
   "cell_type": "code",
   "execution_count": null,
   "metadata": {},
   "outputs": [],
   "source": []
  },
  {
   "cell_type": "code",
   "execution_count": null,
   "metadata": {},
   "outputs": [],
   "source": []
  }
 ],
 "metadata": {
  "kernelspec": {
   "display_name": "Python 3",
   "language": "python",
   "name": "python3"
  },
  "language_info": {
   "codemirror_mode": {
    "name": "ipython",
    "version": 3
   },
   "file_extension": ".py",
   "mimetype": "text/x-python",
   "name": "python",
   "nbconvert_exporter": "python",
   "pygments_lexer": "ipython3",
   "version": "3.9.13"
  }
 },
 "nbformat": 4,
 "nbformat_minor": 2
}
